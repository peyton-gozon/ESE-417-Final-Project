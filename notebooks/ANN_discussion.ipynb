{
 "cells": [
  {
   "cell_type": "markdown",
   "source": [
    "I didn't have the time to type this up, but these are the results:\n",
    "\n",
    "```\n",
    "Best Estimator:\n",
    "Parameters: {'classifier__activation': 'relu', 'classifier__alpha': 0.001, 'classifier__batch_size': 100, 'classifier__beta_1': 0.9, 'classifier__early_stopping': False, 'classifier__hidden_layer_sizes': (63, 63), 'classifier__learning_rate_init': 0.01, 'classifier__solver': 'adam', 'classifier__validation_fraction': 0.05}\n",
    "\n",
    "Accuracy: 0.6240668625892071\n",
    "\n",
    "Classification report (Test):\n",
    "              precision    recall  f1-score   support\n",
    "           3       0.00      0.00      0.00         2\n",
    "           4       0.10      0.08      0.09        12\n",
    "           5       0.76      0.61      0.68       132\n",
    "           6       0.60      0.70      0.65       136\n",
    "           7       0.45      0.46      0.45        37\n",
    "           8       0.17      1.00      0.29         1\n",
    "    accuracy                           0.61       320\n",
    "   macro avg       0.35      0.48      0.36       320\n",
    "weighted avg       0.63      0.61      0.61       320\n",
    "\n",
    "        pred:3  pred:4  pred:5  pred:6  pred:7  pred:8\n",
    "true:3       0       0       1       1       0       0\n",
    "true:4       1       1       4       6       0       0\n",
    "true:5       1       7      81      39       3       1\n",
    "true:6       0       2      19      95      18       2\n",
    "true:7       0       0       1      17      17       2\n",
    "true:8       0       0       0       0       0       1\n",
    "\n",
    "```\n",
    "\n",
    "Nowhere near as good as the random forest classifier, but it appeared to perform _decently_ overall."
   ],
   "metadata": {
    "collapsed": false,
    "pycharm": {
     "name": "#%% md\n"
    }
   }
  }
 ],
 "metadata": {
  "kernelspec": {
   "display_name": "Python 3",
   "language": "python",
   "name": "python3"
  },
  "language_info": {
   "codemirror_mode": {
    "name": "ipython",
    "version": 2
   },
   "file_extension": ".py",
   "mimetype": "text/x-python",
   "name": "python",
   "nbconvert_exporter": "python",
   "pygments_lexer": "ipython2",
   "version": "2.7.6"
  }
 },
 "nbformat": 4,
 "nbformat_minor": 0
}